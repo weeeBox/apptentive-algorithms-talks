{
 "cells": [
  {
   "cell_type": "markdown",
   "metadata": {},
   "source": [
    "# Recursion\n",
    "Recursion in computer science is a method where the solution to a problem depends on solutions to smaller instances of the same problem (as opposed to iteration).  \n",
    "  \n",
    "Each recursive algorithm consists of:\n",
    "- **Base case**: a case for which the answer is _known_ (and can be expressed _without_ recursion).\n",
    "- **Recursive (general) case**: a case for which a solution is expressed in terms of a _smaller version of itself_.\n",
    "\n",
    "Each recursive algorithm **must** have at least one base case. If the base case is not reached or not provided, then the program would run out of stack space (stack overflow)."
   ]
  },
  {
   "cell_type": "markdown",
   "metadata": {},
   "source": [
    "![Russian Dols](img/russian-dols.jpg)"
   ]
  },
  {
   "cell_type": "markdown",
   "metadata": {},
   "source": [
    "### Example: sum all integers from $[0..n]$ without using loops\n",
    "Recurrence formula:  \n",
    "$F(n)=\\begin{cases}\n",
    "    0 & \\text{if $n=0$ (base case)}.\\\\\n",
    "    F(n-1) + n & \\text{if $n>0$}.\n",
    "  \\end{cases}$"
   ]
  },
  {
   "cell_type": "code",
   "execution_count": null,
   "metadata": {},
   "outputs": [],
   "source": [
    "def sum_recursive(n):\n",
    "    if n == 0:\n",
    "        return 0\n",
    "    \n",
    "    return n + sum_recursive(n - 1)"
   ]
  },
  {
   "cell_type": "code",
   "execution_count": null,
   "metadata": {},
   "outputs": [],
   "source": [
    "def sum_and_print(n):\n",
    "    print(f'Sum from 1 to {n} is {sum_recursive(n)}')"
   ]
  },
  {
   "cell_type": "code",
   "execution_count": null,
   "metadata": {},
   "outputs": [],
   "source": [
    "sum_and_print(30)"
   ]
  },
  {
   "cell_type": "code",
   "execution_count": null,
   "metadata": {},
   "outputs": [],
   "source": [
    "sum_and_print(300)"
   ]
  },
  {
   "cell_type": "code",
   "execution_count": null,
   "metadata": {},
   "outputs": [],
   "source": [
    "sum_and_print(3000)"
   ]
  },
  {
   "cell_type": "markdown",
   "metadata": {},
   "source": [
    "Uh-oh, we run out of stack space! Let's fix it by increasing the stack size."
   ]
  },
  {
   "cell_type": "code",
   "execution_count": null,
   "metadata": {},
   "outputs": [],
   "source": [
    "import sys\n",
    "sys.setrecursionlimit(10000) # this is a bad idea in general"
   ]
  },
  {
   "cell_type": "code",
   "execution_count": null,
   "metadata": {},
   "outputs": [],
   "source": [
    "sum_and_print(3000)"
   ]
  },
  {
   "cell_type": "markdown",
   "metadata": {},
   "source": [
    "## Pros and Cons of Recursion\n",
    "**Good:**\n",
    "- Recursive algorithms are more **elegant** and **easier** to understand.\n",
    "- Recursion is prefered in **functional languages** (with **tail recursion optimization** leading to little overhead).\n",
    "\n",
    "**Bad:**\n",
    "- Recursive algorithms might take **more memory** than iterative algorithms.\n",
    "- Recursive algorithms might be **slower** than iterative algorithms.\n",
    "- Recursive algorithms can cause running out of stack space (**stack overflow**).\n",
    "  \n",
    "### _IMPORTANT: recursion requires additional memory proportional to the depth of the call stack_\n"
   ]
  },
  {
   "cell_type": "code",
   "execution_count": null,
   "metadata": {},
   "outputs": [],
   "source": [
    "from utils import measure_call\n",
    "input_size = 5000"
   ]
  },
  {
   "cell_type": "code",
   "execution_count": null,
   "metadata": {},
   "outputs": [],
   "source": [
    "def sum_iterative(n):\n",
    "    total = 0\n",
    "    k = 0\n",
    "    while k <= n:\n",
    "        total += k\n",
    "        k += 1\n",
    "        \n",
    "    return total"
   ]
  },
  {
   "cell_type": "code",
   "execution_count": null,
   "metadata": {},
   "outputs": [],
   "source": [
    "measure_call(lambda: sum_recursive(input_size), 'Sum recursive')"
   ]
  },
  {
   "cell_type": "code",
   "execution_count": null,
   "metadata": {},
   "outputs": [],
   "source": [
    "measure_call(lambda: sum_iterative(input_size), 'Sum iterative')"
   ]
  },
  {
   "cell_type": "markdown",
   "metadata": {},
   "source": [
    "## Tail Recursion Optimization"
   ]
  },
  {
   "cell_type": "markdown",
   "metadata": {},
   "source": [
    "Tail-recursive functions are functions in which **all recursive calls are tail calls** and hence do not build up any deferred operations. With a compiler or interpreter that treats tail-recursive calls as **jumps rather than function calls**, a tail-recursive function **will execute using constant space**. Thus the program is essentially iterative, equivalent to using imperative language control structures like the `for` and `while` loops."
   ]
  },
  {
   "cell_type": "markdown",
   "metadata": {},
   "source": [
    "### Example with tail recursion: Greatest Common Divisor"
   ]
  },
  {
   "cell_type": "code",
   "execution_count": null,
   "metadata": {},
   "outputs": [],
   "source": [
    "def gcd(x, y):\n",
    "    if y == 0:\n",
    "        return x\n",
    "    else:\n",
    "        return gcd(y, x % y)"
   ]
  },
  {
   "cell_type": "markdown",
   "metadata": {},
   "source": [
    "### Example without tail recursion: Factorial"
   ]
  },
  {
   "cell_type": "code",
   "execution_count": null,
   "metadata": {},
   "outputs": [],
   "source": [
    "def factorial(n):\n",
    "    if n <= 1:\n",
    "        return 1\n",
    "    \n",
    "    return n * factorial(n - 1)"
   ]
  },
  {
   "cell_type": "markdown",
   "metadata": {},
   "source": [
    "### Languages with Tail Recursion Optimization\n",
    "- **Scala**: by default\n",
    "- **Kotlin**: includes `tailrec` modifier for functions\n",
    "- **JavaScript (ES 6.0)**: implemented in Safari/WebKit\n",
    "- **C/C++/Objective-C/Swift**: compiler optimizes tail calls when -O1 (or higher) option specified but it is easily disturbed by calls added by ARC.\n",
    "\n",
    "### Languages without Tail Recursion Optimization\n",
    "- **Java**\n",
    "- **C#**\n",
    "- **Python**\n",
    "<br><img style=\"float: left;\" src=\"img/python-tail-recursion.jpg\">\n"
   ]
  },
  {
   "cell_type": "markdown",
   "metadata": {},
   "source": [
    "# Dynamic Programming\n",
    "\n",
    "A problem can be solved with dynamic programming if it has the following properties:\n",
    "- **Optimal substructure**  \n",
    "    To solve the original problem of size $n$, we solve **smaller** problems of the same type. An **optimal** solutions to a problem incorporate **optimal solutions to related subproblems**, which we may solve independently.\n",
    "- **Overlapping Subproblems**  \n",
    "    Solutions of the subproblems are reused."
   ]
  },
  {
   "cell_type": "markdown",
   "metadata": {},
   "source": [
    "## Example: Finding $n$-th Fibonacci Number\n",
    "### Recurrence definition:  \n",
    "$F(n)=\\begin{cases}\n",
    "    0, & \\text{if $n=1$}.\\\\\n",
    "    1, & \\text{if $n=2$}.\\\\\n",
    "    F(n-1) + F(n-2), & \\text{otherwise}.\n",
    "  \\end{cases}$"
   ]
  },
  {
   "cell_type": "code",
   "execution_count": null,
   "metadata": {},
   "outputs": [],
   "source": [
    "def fibonacci(n):\n",
    "    if n==1:\n",
    "        return 0\n",
    "    if n==2:\n",
    "        return 1\n",
    "    return fibonacci(n-1) + fibonacci(n-2)"
   ]
  },
  {
   "cell_type": "markdown",
   "metadata": {},
   "source": [
    "**Time complexity:** $\\Theta(2^n)$ - total **number of nodes**  \n",
    "**Space complexity:** $\\Theta(n)$ - **height** of the recursion tree"
   ]
  },
  {
   "cell_type": "markdown",
   "metadata": {},
   "source": [
    "<br><img style=\"float: left; width: 800px;\" src=\"img/fib-tree.png\">"
   ]
  },
  {
   "cell_type": "code",
   "execution_count": null,
   "metadata": {},
   "outputs": [],
   "source": [
    "fibonacci(10)"
   ]
  },
  {
   "cell_type": "markdown",
   "metadata": {},
   "source": [
    "## Time-memory trade-off\n",
    "- **Dynamic programming uses additional memory to save computation time**.  \n",
    "    Each subproblem is only solved once. Its solution is saved so we can look it up instead of recomputing.\n",
    "- **An _exponential-time_ solution may be transformed into a _polynomial-time_ solution**.  \n",
    "    A dynamic-programming approach runs in polynomial time when the number of _distinct_ subproblems involved is polynomial in the input size and we can solve each such subproblem in polynomial time."
   ]
  },
  {
   "cell_type": "markdown",
   "metadata": {},
   "source": [
    "# Exponential vs Polynomial\n",
    "### Exponential = Slow\n",
    "### Polynomial = Fast\n",
    "<br><img style=\"float: left;\" src=\"img/lenny-white-carl-black.jpg\">"
   ]
  },
  {
   "cell_type": "markdown",
   "metadata": {},
   "source": [
    "## Methods\n",
    "\n",
    "### Top-down (memoization)\n",
    "**Start with bigger problem**: In this approach, we write the procedure recursively in a natural manner, but modified to **save the result of each subproblem** (usually in an array or hash table). The procedure now **first checks to see whether it has previously solved this subproblem**. If so, **it returns the saved value**, saving further computation at this level; if not, the procedure computes the value in the usual manner. We say that the recursive procedure has been **memoized**; it “remembers” what results it has computed previously."
   ]
  },
  {
   "cell_type": "code",
   "execution_count": null,
   "metadata": {},
   "outputs": [],
   "source": [
    "def fibonacci_top_down(n, memo={}):\n",
    "    if n in memo:\n",
    "        return memo[n]\n",
    "    \n",
    "    if n==1:\n",
    "        memo[n] = 0\n",
    "    elif n==2:\n",
    "        memo[n] = 1\n",
    "    else:\n",
    "        memo[n] = fibonacci_top_down(n-1, memo) + fibonacci_top_down(n-2, memo)\n",
    "        \n",
    "    return memo[n]"
   ]
  },
  {
   "cell_type": "code",
   "execution_count": null,
   "metadata": {},
   "outputs": [],
   "source": [
    "fibonacci_top_down(10)"
   ]
  },
  {
   "cell_type": "markdown",
   "metadata": {},
   "source": [
    "**Time complexity:** $\\Theta(n)$ - number of **unique** subproblems  \n",
    "**Space complexity:** $\\Theta(n)$ - **height** of the recursion tree + **additional** memory for solution storage\n",
    "<br><img style=\"float: left; width: 500px;\" src=\"img/memoization.png\">"
   ]
  },
  {
   "cell_type": "code",
   "execution_count": null,
   "metadata": {},
   "outputs": [],
   "source": [
    "from utils import fibonacci_top_down_print_stack\n",
    "fibonacci_top_down_print_stack(10)"
   ]
  },
  {
   "cell_type": "markdown",
   "metadata": {},
   "source": [
    "### Bottom-up (tabulation)\n",
    "**Start with smaller problems**: This approach typically depends on some natural notion of the “size” of a subproblem, such that **solving any particular subproblem depends only on solving “smaller” subproblems**. We **sort** the subproblems by size and solve them in size order, **smallest first**. When solving a particular subproblem, we have already **solved all of the smaller subproblems** its solution depends upon, and we have saved their solutions. We solve each subproblem only once, and when we first see it, we have already solved all of its prerequisite subproblems."
   ]
  },
  {
   "cell_type": "code",
   "execution_count": null,
   "metadata": {},
   "outputs": [],
   "source": [
    "def fibonacci_buttom_up(n):\n",
    "    if n==1:\n",
    "        return 0\n",
    "    if n==2:\n",
    "        return 1\n",
    "    \n",
    "    dp = [None] * (n + 1)\n",
    "    dp[1] = 0\n",
    "    dp[2] = 1\n",
    "    \n",
    "    k = 3\n",
    "    while k <= n:\n",
    "        dp[k] = dp[k - 1] + dp[k - 2]\n",
    "        k += 1\n",
    "        \n",
    "    return dp[n]"
   ]
  },
  {
   "cell_type": "markdown",
   "metadata": {},
   "source": [
    "**Time complexity:** $\\Theta(n)$ - number of **iterations** in `while` loop  \n",
    "**Space complexity:** $\\Theta(n)$ - **additional** memory for solution storage"
   ]
  },
  {
   "cell_type": "code",
   "execution_count": null,
   "metadata": {},
   "outputs": [],
   "source": [
    "fibonacci_buttom_up(10)"
   ]
  },
  {
   "cell_type": "code",
   "execution_count": null,
   "metadata": {},
   "outputs": [],
   "source": [
    "from utils import fibonacci_buttom_up_print_dp\n",
    "fibonacci_buttom_up_print_dp(10)"
   ]
  },
  {
   "cell_type": "markdown",
   "metadata": {},
   "source": [
    "### Top-down Space optimization\n",
    "We only need `2` previous solutions, so why to store all of them?"
   ]
  },
  {
   "cell_type": "code",
   "execution_count": null,
   "metadata": {},
   "outputs": [],
   "source": [
    "def fibonacci_buttom_up_optimized(n):\n",
    "    if n==1:\n",
    "        return 0\n",
    "    if n==2:\n",
    "        return 1\n",
    "    \n",
    "    f2, f1 = 1, 0\n",
    "    \n",
    "    k = 3\n",
    "    while k <= n:\n",
    "        f2, f1 = f1, f1 + f2\n",
    "        k += 1\n",
    "        \n",
    "    return f1"
   ]
  },
  {
   "cell_type": "markdown",
   "metadata": {},
   "source": [
    "**Time complexity:** $\\Theta(n)$ - number of **iterations** in `while` loop  \n",
    "**Space complexity:** $\\Theta(1)$ - only **constant** amount of memory required"
   ]
  },
  {
   "cell_type": "markdown",
   "metadata": {},
   "source": [
    "## Relative performance"
   ]
  },
  {
   "cell_type": "code",
   "execution_count": null,
   "metadata": {},
   "outputs": [],
   "source": [
    "from utils import measure_call\n",
    "\n",
    "def run_trial(input_size, include_exponential=True):\n",
    "    if include_exponential:\n",
    "        measure_call(lambda: fibonacci(input_size), 'Fibonacci non-optimized')\n",
    "    measure_call(lambda: fibonacci_top_down(input_size), 'Fibonacci top-down')\n",
    "    measure_call(lambda: fibonacci_buttom_up(input_size), 'Fibonacci bottom-up')\n",
    "    measure_call(lambda: fibonacci_buttom_up_optimized(input_size), 'Fibonacci bottom-up (opt)')"
   ]
  },
  {
   "cell_type": "code",
   "execution_count": null,
   "metadata": {},
   "outputs": [],
   "source": [
    "run_trial(10)"
   ]
  },
  {
   "cell_type": "code",
   "execution_count": null,
   "metadata": {},
   "outputs": [],
   "source": [
    "run_trial(20)"
   ]
  },
  {
   "cell_type": "code",
   "execution_count": null,
   "metadata": {},
   "outputs": [],
   "source": [
    "run_trial(30)"
   ]
  },
  {
   "cell_type": "code",
   "execution_count": null,
   "metadata": {},
   "outputs": [],
   "source": [
    "run_trial(40)"
   ]
  },
  {
   "cell_type": "code",
   "execution_count": null,
   "metadata": {},
   "outputs": [],
   "source": [
    "run_trial(3000, include_exponential=False)"
   ]
  },
  {
   "cell_type": "code",
   "execution_count": null,
   "metadata": {},
   "outputs": [],
   "source": [
    "run_trial(100000, include_exponential=False)"
   ]
  },
  {
   "cell_type": "code",
   "execution_count": null,
   "metadata": {},
   "outputs": [],
   "source": [
    "run_trial(500000, include_exponential=False)"
   ]
  },
  {
   "cell_type": "markdown",
   "metadata": {},
   "source": [
    "## 1-0 Knapsack Problem\n",
    "You have a knapsack which can hold max weight $W$. You also have $n$ items, each of them has value $v_i$ and weight $w_i$. What the maximum value you can put into the knapsack?"
   ]
  },
  {
   "cell_type": "markdown",
   "metadata": {},
   "source": [
    "<br><img style=\"float: left;\" src=\"img/knapsack.png\"><br>\n",
    "\n",
    "For every candidate item we can choose if we take it or discard it. If we take an item the knapsack's \"available\" weight is reduced by the weight of the item and the total content value is increased by the value of the item. If an item is discarded - the knapsack's \"available\" weight and the total content value remain the same. In both cases we have one less item to consider.\n",
    "\n",
    "$W$ - max weight for knapsack.  \n",
    "$n$ - number of items.  \n",
    "$w_n$ - weight of $n^{th}$ item.  \n",
    "$v_n$ - value of $n^{th}$ item.  \n",
    "\n",
    "### Base case:\n",
    "$F(0, n) = 0$  \n",
    "$F(W, 0) = 0$  \n",
    "\n",
    "### Recursive case:\n",
    "$F(W, n)=\\max\\begin{cases}\n",
    "    F(W - w_n, n - 1) + v_n, & \\text{take item if $W - w_n \\ge 0$}.\\\\\n",
    "    F(W, n - 1), & \\text{discard item}.\n",
    "  \\end{cases}$"
   ]
  },
  {
   "cell_type": "code",
   "execution_count": null,
   "metadata": {},
   "outputs": [],
   "source": [
    "def knapsack(W, n, weights, values):\n",
    "    # base case\n",
    "    if W == 0 or n == 0:\n",
    "        return 0\n",
    "\n",
    "    # take the item\n",
    "    take_item_value = 0\n",
    "    if W - weights[n - 1] >= 0:  # can we fit the item?\n",
    "        take_item_value = knapsack(W - weights[n - 1], n - 1, weights, values) + values[n - 1]\n",
    "\n",
    "    # discard the item\n",
    "    discard_item_value = knapsack(W, n - 1, weights, values)\n",
    "\n",
    "    # max of take/discard\n",
    "    return max(take_item_value, discard_item_value)"
   ]
  },
  {
   "cell_type": "markdown",
   "metadata": {},
   "source": [
    "Total knapsack value if you **take** $n^{th}$ item:  \n",
    "`take_item_value = knapsack(W - weights[n - 1], n - 1, weights, values) + values[n - 1]`  \n",
    "\n",
    "Total knapsack value if you **discard** $n^{th}$ item:  \n",
    "`discard_item_value = knapsack(W, n - 1, weights, values)`  \n",
    "\n",
    "Solution is the **max** between two:  \n",
    "`max(take_item_value, discard_item_value)`"
   ]
  },
  {
   "cell_type": "code",
   "execution_count": null,
   "metadata": {},
   "outputs": [],
   "source": [
    "W = 5\n",
    "weights = [2, 3, 4]\n",
    "values = [10.00, 3.50, 20.0]"
   ]
  },
  {
   "cell_type": "code",
   "execution_count": null,
   "metadata": {},
   "outputs": [],
   "source": [
    "knapsack(W, 3, weights, values)"
   ]
  },
  {
   "cell_type": "code",
   "execution_count": null,
   "metadata": {},
   "outputs": [],
   "source": [
    "def knapsack_top_down(W, n, weights, values, memo=None):\n",
    "    # allocate memo[W + 1, n + 1]\n",
    "    if memo is None:\n",
    "        memo = create_memo(W, n)\n",
    "\n",
    "    # lookup solution first\n",
    "    if memo[W][n] is not None:\n",
    "        return memo[W][n]\n",
    "\n",
    "    # take the item\n",
    "    take_item_value = 0\n",
    "    if W - weights[n - 1] >= 0:  # can we fit the item?\n",
    "        take_item_value = knapsack_top_down(W - weights[n - 1], n - 1, weights, values, memo) + values[n - 1]\n",
    "\n",
    "    # discart the item\n",
    "    discard_item_value = knapsack_top_down(W, n - 1, weights, values, memo)\n",
    "\n",
    "    # max of take/discard\n",
    "    memo[W][n] = max(take_item_value, discard_item_value)\n",
    "    return memo[W][n]\n",
    "\n",
    "\n",
    "def create_memo(W, n):\n",
    "    memo = [[None] * (n + 1) for _ in range(W + 1)]\n",
    "\n",
    "    # base case F(W, 0) = 0\n",
    "    for w in range(W + 1):\n",
    "        memo[w][0] = 0\n",
    "\n",
    "    # base case F(0, n) = 0\n",
    "    for n in range(n + 1):\n",
    "        memo[0][n] = 0\n",
    "\n",
    "    return memo"
   ]
  },
  {
   "cell_type": "code",
   "execution_count": null,
   "metadata": {},
   "outputs": [],
   "source": [
    "knapsack_top_down(W, 3, weights, values)"
   ]
  },
  {
   "cell_type": "code",
   "execution_count": null,
   "metadata": {},
   "outputs": [],
   "source": [
    "def knapsack_bottom_up(W, n, weights, values, memo=None):\n",
    "    # create lookup table\n",
    "    dp = create_lookup_table(W, n)\n",
    "\n",
    "    for w in range(1, W + 1):\n",
    "        for k in range(1, n + 1):\n",
    "            # take the item\n",
    "            take_item_value = 0\n",
    "            if w - weights[k - 1] >= 0:  # can we fit the item?\n",
    "                take_item_value = dp[w - weights[k - 1]][k - 1] + values[k - 1]\n",
    "\n",
    "            # discard the item\n",
    "            discard_item_value = dp[w][k - 1]\n",
    "\n",
    "            # max of take/discard\n",
    "            dp[w][k] = max(take_item_value, discard_item_value)\n",
    "\n",
    "    return dp[W][n]\n",
    "\n",
    "\n",
    "def create_lookup_table(W, n):\n",
    "    dp = [[None] * (n + 1) for _ in range(W + 1)]\n",
    "\n",
    "    # base case F(W, 0) = 0\n",
    "    for w in range(W + 1):\n",
    "        dp[w][0] = 0\n",
    "\n",
    "    # base case F(0, n) = 0\n",
    "    for n in range(n + 1):\n",
    "        dp[0][n] = 0\n",
    "\n",
    "    return dp"
   ]
  },
  {
   "cell_type": "code",
   "execution_count": null,
   "metadata": {},
   "outputs": [],
   "source": [
    "knapsack_bottom_up(W, 3, weights, values)"
   ]
  },
  {
   "cell_type": "markdown",
   "metadata": {},
   "source": [
    "# Before you go!\n",
    "http://codingbat.com/java/Recursion-1  \n",
    "http://codingbat.com/java/Recursion-2"
   ]
  },
  {
   "cell_type": "code",
   "execution_count": null,
   "metadata": {},
   "outputs": [],
   "source": []
  }
 ],
 "metadata": {
  "kernelspec": {
   "display_name": "Python 3",
   "language": "python",
   "name": "python3"
  },
  "language_info": {
   "codemirror_mode": {
    "name": "ipython",
    "version": 3
   },
   "file_extension": ".py",
   "mimetype": "text/x-python",
   "name": "python",
   "nbconvert_exporter": "python",
   "pygments_lexer": "ipython3",
   "version": "3.6.4"
  }
 },
 "nbformat": 4,
 "nbformat_minor": 2
}
