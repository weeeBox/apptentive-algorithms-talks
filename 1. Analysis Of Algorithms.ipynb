{
 "cells": [
  {
   "cell_type": "markdown",
   "metadata": {},
   "source": [
    "# Analysis of Algorithms\n",
    "___\n",
    "\n",
    "## Kinds of Analysis\n",
    "- **Worst-case (usually)**  \n",
    "  $T(n)$ *max* time of any input of size $n$\n",
    "- **Average-case (sometimes)**  \n",
    "  $T(n)$ *expected* time of any input of size $n$  \n",
    "  (Works best on uniformly distributed random inputs)\n",
    "- **Best-case (not helpful)**  \n",
    "  (Best time on specific inputs)\n",
    "\n",
    "## Asymptotic Analysis\n",
    "- Ignore machine dependent constants\n",
    "- Look at **growth** of $T(n)$ as $n \\to\\infty$\n",
    "\n",
    "## Asymptotic Notation\n",
    "### Idea:\n",
    "- Drop low-order terms\n",
    "- Ignore leading constants\n",
    "\n",
    "### Most common notations:\n",
    "### $\\mathcal{O}$-notation (upper bound)\n",
    "$f(n)=\\mathcal{O}(g(n))\\;\\text{means}$  \n",
    "$\\text{there are constants $c \\gt 0$ and $n_0\\gt 0$ such that}\\;0 \\le f(n)\\le cg(n)\\;\\text{for all}\\;n \\ge n_0$\n",
    "![title](img/notation-omicron.png)  \n",
    "### $\\Omega$-notation (lower bound)\n",
    "$f(n)=\\Omega(g(n))\\;\\text{means}$  \n",
    "$\\text{there are constants $c \\gt 0$ and $n_0\\gt 0$ such that}\\;0 \\le cg(n)\\le f(n)\\;\\text{for all}\\;n \\ge n_0$\n",
    "![title](img/notation-omega.png)\n",
    "### $\\Theta$-notation (tight bound)\n",
    "$f(n)=\\Theta(g(n))\\;\\text{means}$  \n",
    "$\\text{there are constants $c_1 \\gt 0$, $c_2 \\gt 0$ and $n_0\\gt 0$ such that}\\;0 \\le c_1g(n)\\le f(n)\\le c_2g(n)\\;\\text{for all}\\;n \\ge n_0$  \n",
    "  \n",
    "**Note:** $\\Theta(g(n))=\\mathcal{O}(g(n))\\cap\\Omega(g(n))$\n",
    "![title](img/notation-theta.png)\n",
    "### What's the difference between $\\mathcal{O}(g(n))$ and $\\Theta(g(n))$?\n",
    "$\\Theta(g(n))$ means a **tight bound** while $\\mathcal{O}(g(n))$ is just an **upper** bound.  \n",
    "For some reason, people in the industry have merged them together and use $\\mathcal{O}(g(n))$ where they should use $\\Theta(g(n))$\n",
    "\n",
    "### Example\n",
    "$2n^2+10n+5=\\Theta(n^2)$ - the \"tightest\" bound  \n",
    "$2n^2+10n+5=\\mathcal{O}(n^3)$ - any \"upper\" bound\n",
    "\n",
    "## Runtime Comparison\n",
    "![title](img/notation-functions.png)"
   ]
  },
  {
   "cell_type": "markdown",
   "metadata": {},
   "source": [
    "## Which logarithmic base should I use?\n",
    "Does not matter but assumed $2$  \n",
    "$log_{b}n=\\frac{log_{2}n}{log_{2}b}=c\\cdot log_{2}n$"
   ]
  },
  {
   "cell_type": "markdown",
   "metadata": {},
   "source": [
    "## Simple cases\n",
    "\n",
    "### $\\mathcal{O}(n)$: linear scan\n",
    "```\n",
    "def indexof(nums, target):\n",
    "    for i in range(len(nums)):\n",
    "        if nums[i] == target:\n",
    "            return i\n",
    "    return -1\n",
    "```\n",
    "\n",
    "### $\\mathcal{O}(n^b)$: nested loops ($b$ - number of nested loops)\n",
    "```\n",
    "def contains_duplicates(nums):\n",
    "    for i in range(len(nums)):\n",
    "        for j in range(i+1, len(nums)):\n",
    "            if nums[i] == nums[j]:\n",
    "                return True\n",
    "    return False\n",
    "```\n",
    "### $\\mathcal{O}(\\lg n)$: divide problem in half\n",
    "```\n",
    "def binary_search(nums, target):\n",
    "    lo, hi = 0, len(nums)-1\n",
    "    while lo <= hi:\n",
    "        mid = lo + (hi - lo)//2\n",
    "        if target < nums[mid]:\n",
    "            hi = mid - 1\n",
    "        elif target > nums[mid]:\n",
    "            lo = mid + 1\n",
    "        else:\n",
    "            return mid\n",
    "    return -1\n",
    "```"
   ]
  },
  {
   "cell_type": "markdown",
   "metadata": {},
   "source": [
    "## Case Study: Fibonacci Numbers\n",
    "### Recurrence definition:  \n",
    "$F_n=\\begin{cases}\n",
    "    0, & \\text{if $n=1$}.\\\\\n",
    "    1, & \\text{if $n=2$}.\\\\\n",
    "    F_{n-2} + F_{n-1}, & \\text{otherwise}.\n",
    "  \\end{cases}$\n",
    "### Time Complexity (how fast it runs)\n",
    "$T(n)=T(n-2)+T(n-1)$  \n",
    "\n",
    "To simplify:  \n",
    "$T(n)\\leq 2T(n-1)$  \n",
    "$T(n)\\leq 2(2T(n-2))$  \n",
    "$T(n)\\leq 2(2(2T(n-3)))$  \n",
    "$T(n)\\leq 2(2(2(2(...))))\\leq 2^n$  \n",
    "  \n",
    "Runtime complexity is $\\mathcal{O}(2^n)$ (**very bad**)\n",
    "  \n",
    "More precise with math proof:  \n",
    "$T(n)=\\mathcal{O}(\\phi^n), \\text{where $\\phi$ - golden ratio($1.6180339887498948482...$)}$ (**still very bad**)\n",
    "### Space Complexity (how much memory it requires)\n",
    "Let's analyze the call stack:\n",
    "```\n",
    "F(n)\n",
    "↳F(n-1)\n",
    "  ↳F(n-2)\n",
    "    ↳F(n-3)\n",
    "      ↳...\n",
    "        ↳F(1)\n",
    "↳F(n-2)\n",
    "  ↳F(n-3)\n",
    "    ↳...\n",
    "      ↳F(1)\n",
    "```\n",
    "It doesn't go deeper than $n$ so the space complexity is $\\mathcal{O}(n)$"
   ]
  },
  {
   "cell_type": "markdown",
   "metadata": {},
   "source": [
    "## Relative speed of $\\mathcal{O}(2^n)$, $\\mathcal{O}(n)$ and $\\mathcal{O}(\\lg n)$"
   ]
  },
  {
   "cell_type": "code",
   "execution_count": null,
   "metadata": {},
   "outputs": [],
   "source": [
    "import time\n",
    "\n",
    "def measure_call(target, name):\n",
    "    start = time.clock()\n",
    "    target()\n",
    "    elasped = time.clock() - start\n",
    "    print('%s: %g ms' % (name, elasped * 1000))"
   ]
  },
  {
   "cell_type": "code",
   "execution_count": null,
   "metadata": {},
   "outputs": [],
   "source": [
    "def fibonacci_exp(n):\n",
    "    if n==1:\n",
    "        return 0\n",
    "    if n==2:\n",
    "        return 1\n",
    "    return fibonacci_exp(n-1)+fibonacci_exp(n-2)"
   ]
  },
  {
   "cell_type": "code",
   "execution_count": null,
   "metadata": {},
   "outputs": [],
   "source": [
    "def fibonacci_linear(n):\n",
    "    if n==1:\n",
    "        return 0\n",
    "    if n==2:\n",
    "        return 1\n",
    "    f1 = 0\n",
    "    f2 = 1\n",
    "    for i in range(2, n):\n",
    "        f2, f1 = f2 + f1, f2\n",
    "    \n",
    "    return f2"
   ]
  },
  {
   "cell_type": "code",
   "execution_count": null,
   "metadata": {},
   "outputs": [],
   "source": [
    "def fibonacci_logarithmic(n):\n",
    "    if n==1:\n",
    "        return 0\n",
    "    if n==2:\n",
    "        return 1\n",
    "\n",
    "    # Helper function: returns True if n is an even number.\n",
    "    even = lambda n: (n % 2 == 0)\n",
    "\n",
    "    (current, next, p, q) = (0, 1, 0, 1)    \n",
    "    \n",
    "    n -= 1\n",
    "\n",
    "    while (n > 0):\n",
    "        if (even(n)):\n",
    "            (p, q) = (p**2 + q**2, q**2 + 2*p*q)\n",
    "            n /= 2\n",
    "        else:\n",
    "            (current, next) = (p*current + q*next, q*current + (p+q)*next)\n",
    "            n -= 1\n",
    "    \n",
    "    return current"
   ]
  },
  {
   "cell_type": "code",
   "execution_count": null,
   "metadata": {},
   "outputs": [],
   "source": [
    "print('fibonacci_exp(10) =', fibonacci_exp(10))\n",
    "print('fibonacci_linear(10) =', fibonacci_linear(10))\n",
    "print('fibonacci_logarithmic(10) =', fibonacci_logarithmic(10))"
   ]
  },
  {
   "cell_type": "code",
   "execution_count": null,
   "metadata": {},
   "outputs": [],
   "source": [
    "def run_trial(n):\n",
    "    if n > 40:\n",
    "        print('exponential: ∞')\n",
    "    else:\n",
    "        measure_call(lambda: fibonacci_exp(n), 'exponential')\n",
    "    measure_call(lambda: fibonacci_linear(n), 'linear')\n",
    "    measure_call(lambda: fibonacci_logarithmic(n), 'logarithmic')"
   ]
  },
  {
   "cell_type": "code",
   "execution_count": null,
   "metadata": {},
   "outputs": [],
   "source": [
    "run_trial(10)"
   ]
  },
  {
   "cell_type": "code",
   "execution_count": null,
   "metadata": {},
   "outputs": [],
   "source": [
    "run_trial(20)"
   ]
  },
  {
   "cell_type": "code",
   "execution_count": null,
   "metadata": {},
   "outputs": [],
   "source": [
    "run_trial(30)"
   ]
  },
  {
   "cell_type": "code",
   "execution_count": null,
   "metadata": {},
   "outputs": [],
   "source": [
    "run_trial(40)"
   ]
  },
  {
   "cell_type": "code",
   "execution_count": null,
   "metadata": {},
   "outputs": [],
   "source": [
    "run_trial(100000)"
   ]
  },
  {
   "cell_type": "code",
   "execution_count": null,
   "metadata": {},
   "outputs": [],
   "source": [
    "run_trial(1000000)"
   ]
  },
  {
   "cell_type": "markdown",
   "metadata": {},
   "source": [
    "## Amortized Time\n",
    "From stackoverflow:\n",
    "> If you do an operation say a million times, you don't really care about the worst-case or the best-case of that operation - what you care about is how much time is taken in total when you repeat the operation a million times.\n",
    ">\n",
    "> So it doesn't matter if the operation is very slow once in a while, as long as \"once in a while\" is rare enough for the slowness to be diluted away. Essentially amortised time means \"average time taken per operation, if you do many operations\". Amortised time doesn't have to be constant; you can have linear and logarithmic amortised time or whatever else.\n",
    "> \n",
    "> Let's take mats' example of a dynamic array, to which you repeatedly add new items. Normally adding an item takes constant time (that is, O(1)). But each time the array is full, you allocate twice as much space, copy your data into the new region, and free the old space. Assuming allocates and frees run in constant time, this enlargement process takes O(n) time where n is the current size of the array.\n",
    "> \n",
    "> So each time you enlarge, you take about twice as much time as the last enlarge. But you've also waited twice as long before doing it! The cost of each enlargement can thus be \"spread out\" among the insertions. This means that in the long term, the total time taken for adding m items to the array is O(m), and so the amortised time (i.e. time per insertion) is O(1)."
   ]
  },
  {
   "cell_type": "code",
   "execution_count": null,
   "metadata": {},
   "outputs": [],
   "source": []
  }
 ],
 "metadata": {
  "kernelspec": {
   "display_name": "Python 3",
   "language": "python",
   "name": "python3"
  },
  "language_info": {
   "codemirror_mode": {
    "name": "ipython",
    "version": 3
   },
   "file_extension": ".py",
   "mimetype": "text/x-python",
   "name": "python",
   "nbconvert_exporter": "python",
   "pygments_lexer": "ipython3",
   "version": "3.6.4"
  }
 },
 "nbformat": 4,
 "nbformat_minor": 2
}
